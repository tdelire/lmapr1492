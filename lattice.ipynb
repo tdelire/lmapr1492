{
 "cells": [
  {
   "cell_type": "code",
   "execution_count": 10,
   "id": "material-steel",
   "metadata": {},
   "outputs": [],
   "source": [
    "from pymatgen import MPRester\n",
    "from jupyter_jsmol.pymatgen import quick_view\n",
    "from pymatgen.symmetry.analyzer import SpacegroupAnalyzer"
   ]
  },
  {
   "cell_type": "code",
   "execution_count": 11,
   "id": "modern-colon",
   "metadata": {},
   "outputs": [],
   "source": [
    "with MPRester(\"bfWHOpdayyP1LUqo\") as m:\n",
    "\n",
    "    # Structure for material id\n",
    "    structure = m.get_structure_by_material_id(\"mp-862947\")"
   ]
  },
  {
   "cell_type": "code",
   "execution_count": 12,
   "id": "educated-porcelain",
   "metadata": {},
   "outputs": [
    {
     "name": "stdout",
     "output_type": "stream",
     "text": [
      "Full Formula (Ba2 Bi1 Au1)\n",
      "Reduced Formula: Ba2BiAu\n",
      "abc   :   5.956496   5.956496   5.956496\n",
      "angles:  60.000000  60.000000  60.000000\n",
      "Sites (4)\n",
      "  #  SP       a     b     c    magmom\n",
      "---  ----  ----  ----  ----  --------\n",
      "  0  Ba    0.75  0.75  0.75         0\n",
      "  1  Ba    0.25  0.25  0.25         0\n",
      "  2  Bi    0     0     0            0\n",
      "  3  Au    0.5   0.5   0.5          0\n"
     ]
    }
   ],
   "source": [
    "print(structure)"
   ]
  },
  {
   "cell_type": "code",
   "execution_count": 20,
   "id": "monetary-bachelor",
   "metadata": {},
   "outputs": [
    {
     "name": "stdout",
     "output_type": "stream",
     "text": [
      "Groupe spatial : Fm-3m\n",
      "Groupe ponctuel :  m-3m\n",
      "Système cristallin:  cubic\n",
      "Type de maille:  cubic\n",
      "\n",
      "\n",
      "Réseau direct a,b et c; chacuns donnés sur les lignes 1,2 et 3 respectivement :\n",
      "0.000000 4.211879 4.211879\n",
      "4.211879 0.000000 4.211879\n",
      "4.211879 4.211879 0.000000\n",
      "\n",
      "\n",
      "Réseau réciproque a*,b* et c*; idem sur les lignes 1,2 et 3 :\n",
      "-0.745889 0.745889 0.745889\n",
      "0.745889 -0.745889 0.745889\n",
      "0.745889 0.745889 -0.745889\n"
     ]
    }
   ],
   "source": [
    "print(\"Groupe spatial :\",SpacegroupAnalyzer(structure).get_space_group_symbol())\n",
    "print(\"Groupe ponctuel : \",SpacegroupAnalyzer(structure).get_point_group_symbol())\n",
    "print(\"Système cristallin: \",SpacegroupAnalyzer(structure).get_crystal_system())\n",
    "print(\"Type de maille: \",SpacegroupAnalyzer(structure).get_lattice_type())\n",
    "print(\"\\n\")\n",
    "print(\"Réseau direct a,b et c; chacuns donnés sur les lignes 1,2 et 3 respectivement :\")\n",
    "print(structure.lattice)\n",
    "print(\"\\n\")\n",
    "print(\"Réseau réciproque a*,b* et c*; idem sur les lignes 1,2 et 3 :\")\n",
    "print(structure.lattice.reciprocal_lattice)\n",
    "\n"
   ]
  },
  {
   "cell_type": "code",
   "execution_count": null,
   "id": "7bfa6190",
   "metadata": {},
   "outputs": [],
   "source": []
  }
 ],
 "metadata": {
  "kernelspec": {
   "display_name": "Python 3",
   "language": "python",
   "name": "python3"
  },
  "language_info": {
   "codemirror_mode": {
    "name": "ipython",
    "version": 3
   },
   "file_extension": ".py",
   "mimetype": "text/x-python",
   "name": "python",
   "nbconvert_exporter": "python",
   "pygments_lexer": "ipython3",
   "version": "3.6.8"
  }
 },
 "nbformat": 4,
 "nbformat_minor": 5
}
